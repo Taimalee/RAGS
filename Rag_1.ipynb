{
 "cells": [
  {
   "cell_type": "markdown",
   "metadata": {},
   "source": [
    "### RAG 1: Local File System Loader with ChromaDB"
   ]
  },
  {
   "cell_type": "code",
   "execution_count": 33,
   "metadata": {},
   "outputs": [],
   "source": [
    "import os\n",
    "import openai\n",
    "from dotenv import load_dotenv\n",
    "\n",
    "# Load environment variables from .env file\n",
    "load_dotenv()\n",
    "\n",
    "# Now you can access your variables\n",
    "openai_api_key = os.getenv(\"OPENAI_API_KEY\")\n",
    "pinecone_api_key = os.getenv(\"PINECONE_API_KEY\")\n",
    "pinecone_env = os.getenv(\"PINECONE_ENV\")\n",
    "\n",
    "aws_access_key = os.getenv(\"AWS_ACCESS_KEY_ID\")\n",
    "aws_secret_key = os.getenv(\"AWS_SECRET_ACCESS_KEY\")\n",
    "aws_region = os.getenv(\"AWS_DEFAULT_REGION\")\n"
   ]
  },
  {
   "cell_type": "markdown",
   "metadata": {},
   "source": [
    "##### Load Documents from the Local File System"
   ]
  },
  {
   "cell_type": "code",
   "execution_count": 36,
   "metadata": {},
   "outputs": [
    {
     "name": "stdout",
     "output_type": "stream",
     "text": [
      "Loaded 17 documents from local file system.\n"
     ]
    }
   ],
   "source": [
    "from langchain.document_loaders import DirectoryLoader, PyPDFLoader\n",
    "\n",
    "\n",
    "# Create a loader that reads .txt files from the current directory\n",
    "loader = DirectoryLoader('./', glob=\"*.pdf\", loader_cls=PyPDFLoader)\n",
    "documents = loader.load()\n",
    "\n",
    "print(f\"Loaded {len(documents)} documents from local file system.\")\n"
   ]
  },
  {
   "cell_type": "markdown",
   "metadata": {},
   "source": [
    "#### Create a Vector Store Using ChromaDB"
   ]
  },
  {
   "cell_type": "code",
   "execution_count": 37,
   "metadata": {},
   "outputs": [
    {
     "name": "stdout",
     "output_type": "stream",
     "text": [
      "Documents indexed in ChromaDB.\n"
     ]
    }
   ],
   "source": [
    "from langchain_openai import OpenAIEmbeddings\n",
    "from langchain.vectorstores import Chroma\n",
    "\n",
    "\n",
    "# Create an embeddings object (using OpenAI embeddings)\n",
    "embeddings = OpenAIEmbeddings()\n",
    "\n",
    "# Initialize the Chroma vector store with the loaded documents\n",
    "vector_store = Chroma.from_documents(documents, embeddings, collection_name=\"local_docs\")\n",
    "\n",
    "print(\"Documents indexed in ChromaDB.\")\n"
   ]
  },
  {
   "cell_type": "markdown",
   "metadata": {},
   "source": [
    "#### Build the RAG with LangChain’s Retrieval QA Chain"
   ]
  },
  {
   "cell_type": "code",
   "execution_count": 38,
   "metadata": {},
   "outputs": [],
   "source": [
    "from langchain.chains.combine_documents import create_stuff_documents_chain\n",
    "from langchain.chains import create_retrieval_chain\n",
    "from langchain.prompts import PromptTemplate\n",
    "from langchain_openai.chat_models import ChatOpenAI\n",
    "\n",
    "\n",
    "template = \"\"\" Answer the question only based on the following context.\n",
    "If you can't find answer in context, use your own knowlege\n",
    "{context}\n",
    "\n",
    "Question: {question}\n",
    "\"\"\"\n",
    "\n",
    "prompt = PromptTemplate(template=template)\n",
    "model = ChatOpenAI(model_name=\"gpt-3.5-turbo\", temperature=0)\n",
    "\n",
    "\n",
    "# Create the RetrievalQA chain using the vector store’s retriever\n",
    "retriever = vector_store.as_retriever(search_kwargs={\"k\": 3})\n"
   ]
  },
  {
   "cell_type": "code",
   "execution_count": 39,
   "metadata": {},
   "outputs": [],
   "source": [
    "combine_docs_chain = create_stuff_documents_chain(llm=model, prompt=prompt)\n",
    "\n",
    "retrieval_chain = create_retrieval_chain(retriever, combine_docs_chain)"
   ]
  },
  {
   "cell_type": "code",
   "execution_count": 40,
   "metadata": {},
   "outputs": [
    {
     "data": {
      "text/plain": [
       "{'input': 'Which Country is Trump Invading?',\n",
       " 'question': 'Which Country is Trump Invading??',\n",
       " 'context': [Document(metadata={'creationdate': '2025-02-09T07:49:21+00:00', 'creator': 'Mozilla/5.0 (Windows NT 10.0; Win64; x64) AppleWebKit/537.36 (KHTML, like Gecko) Chrome/132.0.0.0 Safari/537.36', 'moddate': '2025-02-09T07:49:21+00:00', 'page': 1, 'page_label': '2', 'producer': 'Skia/PDF m132', 'source': 'data.pdf', 'title': 'Trump’s invasion of Greenland would be ‘the shortest war in the world’ – POLITICO', 'total_pages': 17}, page_content='This week, incoming U.S. President Donald Trump sent shockwaves across Europe\\nwhen he refused to rule out using military force to annex the world’s largest island, an\\nautonomous territory of 57,000 people that is part of the Kingdom of Denmark.\\xa0\\nTrump, who also ﬂoated the idea of the U.S. taking over Canada and the Panama Canal,\\nhas long had his eye on Greenland — a strategically located island rich in minerals and\\noil.\\nAdvertisement\\nAffordable SUVsWith 3rd Row\\nDiscover The Best-priced SUVs Featuring ASpacious 3rd Row. ShopNow.\\nBest SUV Deals\\nOpen\\nAdvertisement\\n09/02/2025, 02:49 Trump’s invasion of Greenland would be ‘the shortest war in the world’ – POLITICO\\nhttps://www.politico.eu/article/donald-trump-invasion-greenland-shortest-war-world/ 2/17'),\n",
       "  Document(metadata={'creationdate': '2025-02-09T07:49:21+00:00', 'creator': 'Mozilla/5.0 (Windows NT 10.0; Win64; x64) AppleWebKit/537.36 (KHTML, like Gecko) Chrome/132.0.0.0 Safari/537.36', 'moddate': '2025-02-09T07:49:21+00:00', 'page': 1, 'page_label': '2', 'producer': 'Skia/PDF m132', 'source': 'data.pdf', 'title': 'Trump’s invasion of Greenland would be ‘the shortest war in the world’ – POLITICO', 'total_pages': 17}, page_content='This week, incoming U.S. President Donald Trump sent shockwaves across Europe\\nwhen he refused to rule out using military force to annex the world’s largest island, an\\nautonomous territory of 57,000 people that is part of the Kingdom of Denmark.\\xa0\\nTrump, who also ﬂoated the idea of the U.S. taking over Canada and the Panama Canal,\\nhas long had his eye on Greenland — a strategically located island rich in minerals and\\noil.\\nAdvertisement\\nAffordable SUVsWith 3rd Row\\nDiscover The Best-priced SUVs Featuring ASpacious 3rd Row. ShopNow.\\nBest SUV Deals\\nOpen\\nAdvertisement\\n09/02/2025, 02:49 Trump’s invasion of Greenland would be ‘the shortest war in the world’ – POLITICO\\nhttps://www.politico.eu/article/donald-trump-invasion-greenland-shortest-war-world/ 2/17'),\n",
       "  Document(metadata={'creationdate': '2025-02-09T07:49:21+00:00', 'creator': 'Mozilla/5.0 (Windows NT 10.0; Win64; x64) AppleWebKit/537.36 (KHTML, like Gecko) Chrome/132.0.0.0 Safari/537.36', 'moddate': '2025-02-09T07:49:21+00:00', 'page': 1, 'page_label': '2', 'producer': 'Skia/PDF m132', 'source': 'data.pdf', 'title': 'Trump’s invasion of Greenland would be ‘the shortest war in the world’ – POLITICO', 'total_pages': 17}, page_content='This week, incoming U.S. President Donald Trump sent shockwaves across Europe\\nwhen he refused to rule out using military force to annex the world’s largest island, an\\nautonomous territory of 57,000 people that is part of the Kingdom of Denmark.\\xa0\\nTrump, who also ﬂoated the idea of the U.S. taking over Canada and the Panama Canal,\\nhas long had his eye on Greenland — a strategically located island rich in minerals and\\noil.\\nAdvertisement\\nAffordable SUVsWith 3rd Row\\nDiscover The Best-priced SUVs Featuring ASpacious 3rd Row. ShopNow.\\nBest SUV Deals\\nOpen\\nAdvertisement\\n09/02/2025, 02:49 Trump’s invasion of Greenland would be ‘the shortest war in the world’ – POLITICO\\nhttps://www.politico.eu/article/donald-trump-invasion-greenland-shortest-war-world/ 2/17')],\n",
       " 'answer': 'Greenland'}"
      ]
     },
     "execution_count": 40,
     "metadata": {},
     "output_type": "execute_result"
    }
   ],
   "source": [
    "retrieval_chain.invoke({\"input\":\"Which Country is Trump Invading?\",\"question\":\"Which Country is Trump Invading??\" })"
   ]
  },
  {
   "cell_type": "code",
   "execution_count": null,
   "metadata": {},
   "outputs": [],
   "source": []
  },
  {
   "cell_type": "code",
   "execution_count": null,
   "metadata": {},
   "outputs": [],
   "source": []
  }
 ],
 "metadata": {
  "kernelspec": {
   "display_name": ".venv",
   "language": "python",
   "name": "python3"
  },
  "language_info": {
   "codemirror_mode": {
    "name": "ipython",
    "version": 3
   },
   "file_extension": ".py",
   "mimetype": "text/x-python",
   "name": "python",
   "nbconvert_exporter": "python",
   "pygments_lexer": "ipython3",
   "version": "3.12.9"
  }
 },
 "nbformat": 4,
 "nbformat_minor": 2
}
